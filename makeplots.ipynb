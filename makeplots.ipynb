{
 "cells": [
  {
   "cell_type": "code",
   "execution_count": 1,
   "id": "70eca0a1",
   "metadata": {},
   "outputs": [
    {
     "name": "stdout",
     "output_type": "stream",
     "text": [
      "Importing the dtw module. When using in academic works please cite:\n",
      "  T. Giorgino. Computing and Visualizing Dynamic Time Warping Alignments in R: The dtw Package.\n",
      "  J. Stat. Soft., doi:10.18637/jss.v031.i07.\n",
      "\n"
     ]
    }
   ],
   "source": [
    "%matplotlib notebook \n",
    "\n",
    "import numpy as np\n",
    "import matplotlib.pyplot as plt\n",
    "from specutils import Spectrum1D\n",
    "import astropy.units as u\n",
    "\n",
    "# this is a pretty fast Dynamic Time Warping implementation, \n",
    "# which is pip installable & used in PyKOSMOS\n",
    "# https://dynamictimewarping.github.io/py-api/html/\n",
    "import dtw\n",
    "\n",
    "# current PyKOSMOS working code\n",
    "import sys  \n",
    "sys.path.append('/Users/james/Dropbox/research_projects/kosmos/')\n",
    "from kosmos.apextract import _gaus\n",
    "import kosmos"
   ]
  },
  {
   "cell_type": "code",
   "execution_count": 2,
   "id": "fc0335a2",
   "metadata": {},
   "outputs": [],
   "source": [
    "import matplotlib\n",
    "matplotlib.rcParams.update({'font.size':12})\n",
    "matplotlib.rcParams.update({'font.family':'serif'})"
   ]
  },
  {
   "cell_type": "markdown",
   "id": "7936f163",
   "metadata": {},
   "source": [
    "# Cartoon"
   ]
  },
  {
   "cell_type": "code",
   "execution_count": null,
   "id": "1298b361",
   "metadata": {},
   "outputs": [],
   "source": [
    "# WTF is DTW"
   ]
  },
  {
   "cell_type": "code",
   "execution_count": null,
   "id": "f34cd16b",
   "metadata": {},
   "outputs": [],
   "source": []
  },
  {
   "cell_type": "markdown",
   "id": "b3a1ba27",
   "metadata": {},
   "source": [
    "# Tough Model"
   ]
  },
  {
   "cell_type": "code",
   "execution_count": null,
   "id": "4d311a68",
   "metadata": {},
   "outputs": [],
   "source": [
    "# show the tough model & it works"
   ]
  },
  {
   "cell_type": "code",
   "execution_count": null,
   "id": "8d645867",
   "metadata": {},
   "outputs": [],
   "source": [
    "# the 2-step model, smooth, peak find etc"
   ]
  },
  {
   "cell_type": "code",
   "execution_count": null,
   "id": "3e8f8b93",
   "metadata": {},
   "outputs": [],
   "source": []
  },
  {
   "cell_type": "code",
   "execution_count": null,
   "id": "7570b796",
   "metadata": {},
   "outputs": [],
   "source": []
  },
  {
   "cell_type": "markdown",
   "id": "a4291e6d",
   "metadata": {},
   "source": [
    "# KOSMOS"
   ]
  },
  {
   "cell_type": "code",
   "execution_count": null,
   "id": "91fd916a",
   "metadata": {},
   "outputs": [],
   "source": [
    "#  solve a wavelength solution from some real data"
   ]
  },
  {
   "cell_type": "code",
   "execution_count": null,
   "id": "bc5323e4",
   "metadata": {},
   "outputs": [],
   "source": [
    "# do the stack of Neon solutions at all wavelength centers"
   ]
  },
  {
   "cell_type": "code",
   "execution_count": null,
   "id": "1c667dad",
   "metadata": {},
   "outputs": [],
   "source": []
  },
  {
   "cell_type": "code",
   "execution_count": null,
   "id": "972a4ffa",
   "metadata": {},
   "outputs": [],
   "source": []
  }
 ],
 "metadata": {
  "kernelspec": {
   "display_name": "Python 3 (ipykernel)",
   "language": "python",
   "name": "python3"
  },
  "language_info": {
   "codemirror_mode": {
    "name": "ipython",
    "version": 3
   },
   "file_extension": ".py",
   "mimetype": "text/x-python",
   "name": "python",
   "nbconvert_exporter": "python",
   "pygments_lexer": "ipython3",
   "version": "3.11.5"
  }
 },
 "nbformat": 4,
 "nbformat_minor": 5
}
